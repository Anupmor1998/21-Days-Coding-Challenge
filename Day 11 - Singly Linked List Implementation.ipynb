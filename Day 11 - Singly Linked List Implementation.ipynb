{
 "cells": [
  {
   "cell_type": "markdown",
   "metadata": {},
   "source": [
    "# Day 11"
   ]
  },
  {
   "cell_type": "markdown",
   "metadata": {},
   "source": [
    "## Singly linked List Implementation"
   ]
  },
  {
   "cell_type": "code",
   "execution_count": 13,
   "metadata": {},
   "outputs": [],
   "source": [
    "class Node:\n",
    "    def __init__(self,data):\n",
    "        self.data = data\n",
    "        self.next = None\n",
    "class LinkedList:\n",
    "    def __init__(self):\n",
    "        self.head = None\n",
    "        \n",
    "    #Add Element at front\n",
    "    def prepend(self,data):\n",
    "        newNode = Node(data)\n",
    "        newNode.next = self.head\n",
    "        self.head = newNode\n",
    "        \n",
    "    #Add element at end   \n",
    "    def append(self,data):\n",
    "        newNode = Node(data)\n",
    "        if self.head == None:\n",
    "            self.head = newNode\n",
    "            return\n",
    "        \n",
    "        endNode = self.head\n",
    "        while endNode.next:\n",
    "            endNode = endNode.next\n",
    "        endNode.next = newNode\n",
    "        \n",
    "    #Add element at specific position    \n",
    "    def inBetween(self,prevNode,data):\n",
    "        if not prevNode:\n",
    "            print(\"PrevNode Doesn't exists!!!\")\n",
    "            return\n",
    "            \n",
    "        newNode = Node(data)\n",
    "        newNode.next = prevNode.next\n",
    "        prevNode.next = newNode\n",
    "        \n",
    "    #Print the Linked List    \n",
    "    def printList(self):\n",
    "        tempNode = self.head\n",
    "        while tempNode:\n",
    "            print(tempNode.data,end=\" \")\n",
    "            tempNode = tempNode.next\n",
    "        "
   ]
  },
  {
   "cell_type": "code",
   "execution_count": 14,
   "metadata": {},
   "outputs": [],
   "source": [
    "l = LinkedList()"
   ]
  },
  {
   "cell_type": "code",
   "execution_count": 15,
   "metadata": {},
   "outputs": [],
   "source": [
    "l.prepend(1)"
   ]
  },
  {
   "cell_type": "code",
   "execution_count": 16,
   "metadata": {},
   "outputs": [],
   "source": [
    "l.prepend(2)"
   ]
  },
  {
   "cell_type": "code",
   "execution_count": 17,
   "metadata": {},
   "outputs": [],
   "source": [
    "l.append(3)"
   ]
  },
  {
   "cell_type": "code",
   "execution_count": 18,
   "metadata": {},
   "outputs": [
    {
     "name": "stdout",
     "output_type": "stream",
     "text": [
      "2 1 3 "
     ]
    }
   ],
   "source": [
    "l.printList()"
   ]
  },
  {
   "cell_type": "code",
   "execution_count": 19,
   "metadata": {},
   "outputs": [],
   "source": [
    "l.inBetween(l.head,4)"
   ]
  },
  {
   "cell_type": "code",
   "execution_count": 20,
   "metadata": {},
   "outputs": [
    {
     "name": "stdout",
     "output_type": "stream",
     "text": [
      "2 4 1 3 "
     ]
    }
   ],
   "source": [
    "l.printList()"
   ]
  },
  {
   "cell_type": "code",
   "execution_count": null,
   "metadata": {},
   "outputs": [],
   "source": []
  }
 ],
 "metadata": {
  "kernelspec": {
   "display_name": "Python 3",
   "language": "python",
   "name": "python3"
  },
  "language_info": {
   "codemirror_mode": {
    "name": "ipython",
    "version": 3
   },
   "file_extension": ".py",
   "mimetype": "text/x-python",
   "name": "python",
   "nbconvert_exporter": "python",
   "pygments_lexer": "ipython3",
   "version": "3.7.6"
  }
 },
 "nbformat": 4,
 "nbformat_minor": 4
}
