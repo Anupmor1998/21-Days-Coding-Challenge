{
 "cells": [
  {
   "cell_type": "markdown",
   "metadata": {},
   "source": [
    "# Day3"
   ]
  },
  {
   "cell_type": "markdown",
   "metadata": {},
   "source": [
    "Consider an array of non-negative integers. A second array is formed by shuffling the elements of the first array and deleting a random element. Given these two arrays, find which element is missing in the second array.\n",
    "\n",
    "Here is an example input, the first array is shuffled and the number 5 is removed to construct the second array.\n",
    "\n",
    "Input:\n",
    "\n",
    "finder([1,2,3,4,5,6,7],[3,7,2,1,4,6])\n",
    "Output:\n",
    "\n",
    "5 is the missing number"
   ]
  },
  {
   "cell_type": "markdown",
   "metadata": {},
   "source": [
    "\n",
    "## Approach 1"
   ]
  },
  {
   "cell_type": "code",
   "execution_count": 23,
   "metadata": {},
   "outputs": [],
   "source": [
    "import numpy as np"
   ]
  },
  {
   "cell_type": "code",
   "execution_count": 21,
   "metadata": {},
   "outputs": [],
   "source": [
    "def finder(arr1,arr2):\n",
    "    dict1 = {}\n",
    "    ele = 0\n",
    "    for i in arr1:\n",
    "        if i in dict1:\n",
    "            dict1[i] += 1\n",
    "        else:\n",
    "            dict1[i] = 1\n",
    "    \n",
    "    for i in arr2:\n",
    "        if i in dict1:\n",
    "            dict1[i] -= 1\n",
    "        else:\n",
    "            dict1[i] = 1\n",
    "    \n",
    "    for i in dict1:\n",
    "        if dict1[i] != 0:\n",
    "            ele = i\n",
    "            return False,ele\n",
    "        \n",
    "    return True,ele"
   ]
  },
  {
   "cell_type": "code",
   "execution_count": 32,
   "metadata": {},
   "outputs": [
    {
     "name": "stdout",
     "output_type": "stream",
     "text": [
      "Enter the array1 items : 1 2 2 4 5 7 7 \n",
      "Enter the array2 items : 2 1 2 5 7 4\n",
      "[1, 2, 2, 4, 5, 7, 7]\n",
      "[2, 1, 2, 5, 7, 4]\n"
     ]
    }
   ],
   "source": [
    "arr1 = [int(item) for item in input(\"Enter the array1 items : \").split()]\n",
    "arr2 = [int(item) for item in input(\"Enter the array2 items : \").split()]\n",
    "print(arr1)\n",
    "print(arr2)"
   ]
  },
  {
   "cell_type": "code",
   "execution_count": 33,
   "metadata": {},
   "outputs": [],
   "source": [
    "result, ele = finder(arr1,arr2)"
   ]
  },
  {
   "cell_type": "code",
   "execution_count": 34,
   "metadata": {},
   "outputs": [
    {
     "name": "stdout",
     "output_type": "stream",
     "text": [
      "7 is missing\n"
     ]
    }
   ],
   "source": [
    "if result == True:\n",
    "    print(\"No element is missing\")\n",
    "else:\n",
    "    print (ele,\"is missing\")"
   ]
  },
  {
   "cell_type": "markdown",
   "metadata": {},
   "source": [
    "## Approach 2\n"
   ]
  },
  {
   "cell_type": "code",
   "execution_count": 24,
   "metadata": {},
   "outputs": [],
   "source": [
    "def finder(arr1,arr2):\n",
    "    print(sum(arr1) - sum(arr2),\"is missing\")"
   ]
  },
  {
   "cell_type": "code",
   "execution_count": 25,
   "metadata": {},
   "outputs": [
    {
     "name": "stdout",
     "output_type": "stream",
     "text": [
      "7 is missing\n"
     ]
    }
   ],
   "source": [
    "arr1 = [1, 2, 2, 4, 5, 7, 7]\n",
    "arr2 = [2, 1, 2, 5, 7, 4]\n",
    "finder(arr1,arr2)"
   ]
  },
  {
   "cell_type": "markdown",
   "metadata": {},
   "source": [
    "## Approach 3 "
   ]
  },
  {
   "cell_type": "code",
   "execution_count": 26,
   "metadata": {},
   "outputs": [],
   "source": [
    "def finder(arr1,arr2):\n",
    "    arr1_copy = arr1.copy()\n",
    "    for i in arr1_copy:\n",
    "        if i in arr2:\n",
    "            arr1.remove(i)\n",
    "            arr2.remove(i)\n",
    "\n",
    "    print(arr1[0],\"is missing\")"
   ]
  },
  {
   "cell_type": "code",
   "execution_count": 27,
   "metadata": {},
   "outputs": [
    {
     "name": "stdout",
     "output_type": "stream",
     "text": [
      "7 is missing\n"
     ]
    }
   ],
   "source": [
    "arr1 = [1, 2, 2, 4, 5, 7, 7]\n",
    "arr2 = [2, 1, 2, 5, 7, 4]\n",
    "finder(arr1,arr2)"
   ]
  },
  {
   "cell_type": "markdown",
   "metadata": {},
   "source": [
    "## Approach 4"
   ]
  },
  {
   "cell_type": "code",
   "execution_count": 30,
   "metadata": {},
   "outputs": [],
   "source": [
    "def finder(arr1,arr2):\n",
    "    arr1.sort()\n",
    "    arr2.sort()\n",
    "    \n",
    "    for i,j in zip(arr1,arr2):\n",
    "        if i != j:\n",
    "            return i\n",
    "    return arr1[-1]"
   ]
  },
  {
   "cell_type": "code",
   "execution_count": 31,
   "metadata": {},
   "outputs": [
    {
     "name": "stdout",
     "output_type": "stream",
     "text": [
      "7 is missing\n"
     ]
    }
   ],
   "source": [
    "arr1 = [1, 2, 2, 4, 5, 7, 7]\n",
    "arr2 = [2, 1, 2, 5, 7, 4]\n",
    "print(finder(arr1,arr2),\"is missing\")"
   ]
  },
  {
   "cell_type": "code",
   "execution_count": null,
   "metadata": {},
   "outputs": [],
   "source": []
  }
 ],
 "metadata": {
  "kernelspec": {
   "display_name": "Python 3",
   "language": "python",
   "name": "python3"
  },
  "language_info": {
   "codemirror_mode": {
    "name": "ipython",
    "version": 3
   },
   "file_extension": ".py",
   "mimetype": "text/x-python",
   "name": "python",
   "nbconvert_exporter": "python",
   "pygments_lexer": "ipython3",
   "version": "3.7.6"
  }
 },
 "nbformat": 4,
 "nbformat_minor": 4
}
