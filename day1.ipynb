{
 "cells": [
  {
   "cell_type": "markdown",
   "metadata": {},
   "source": [
    "# Day 1"
   ]
  },
  {
   "cell_type": "markdown",
   "metadata": {},
   "source": [
    "Anagram Check\n",
    "Problem\n",
    "Given two strings, check to see if they are anagrams. An anagram is when the two strings can be written using the exact same letters (so you can just rearrange the letters to get a different phrase or word).\n",
    "\n",
    "For example:\n",
    "\n",
    "\"public relations\" is an anagram of \"crap built on lies.\"\n",
    "\n",
    "\"clint eastwood\" is an anagram of \"old west action\"\n",
    "\n",
    "Note: Ignore spaces and capitalization. So \"d go\" is an anagram of \"God\" and \"dog\" and \"o d g\"."
   ]
  },
  {
   "cell_type": "markdown",
   "metadata": {},
   "source": [
    "## Approach 1"
   ]
  },
  {
   "cell_type": "code",
   "execution_count": 72,
   "metadata": {},
   "outputs": [],
   "source": [
    "import numpy as np"
   ]
  },
  {
   "cell_type": "code",
   "execution_count": 19,
   "metadata": {},
   "outputs": [
    {
     "name": "stdout",
     "output_type": "stream",
     "text": [
      "Enter String 1:dad\n",
      "Enter String 2:addd\n"
     ]
    }
   ],
   "source": [
    "str1 = input(\"Enter String 1:\").lower().replace(\" \",\"\")\n",
    "str2 = input(\"Enter String 2:\").lower().replace(\" \",\"\")"
   ]
  },
  {
   "cell_type": "code",
   "execution_count": 20,
   "metadata": {},
   "outputs": [
    {
     "name": "stdout",
     "output_type": "stream",
     "text": [
      "str1 and str2 are not Anagrams.\n"
     ]
    }
   ],
   "source": [
    "if(sorted(str1) == sorted(str2)): # Sorting both the stings in ascending order and if the order is same then they are anagram\n",
    "    print(\"str1 and str2 are Anagrams.\")\n",
    "else:\n",
    "    print(\"str1 and str2 are not Anagrams.\")"
   ]
  },
  {
   "cell_type": "markdown",
   "metadata": {},
   "source": [
    "## Approach 2"
   ]
  },
  {
   "cell_type": "code",
   "execution_count": 113,
   "metadata": {},
   "outputs": [],
   "source": [
    "\n",
    "\n",
    "def find_anagram(str1, str2):\n",
    "    dict1 = {}\n",
    "    zeros = []\n",
    "    \n",
    "    for i in str1:\n",
    "        if i in dict1:\n",
    "            dict1[i] += 1 #counting the occurance of charcters in str1\n",
    "        else:\n",
    "            dict1[i] = 1\n",
    "\n",
    "    for i in str2:\n",
    "        if i in dict1:\n",
    "            dict1[i] -= 1 #substrcting the occurance of charcters in str1 by str2\n",
    "        else:\n",
    "            dict1[i] = 1\n",
    "            break;\n",
    "        \n",
    "    for i in range(len(dict1)): # forming a list of zero of size of dict1\n",
    "        zeros.append(0)\n",
    "\n",
    "    if(list(dict1.values()) == zeros): #if all the values of dict1 are zero then str1 and str2 are anagrams \n",
    "         print(\"str1 and str2 are Anagrams.\")\n",
    "    else:\n",
    "         print(\"str1 and str2 are not Anagrams.\")\n",
    "        \n"
   ]
  },
  {
   "cell_type": "code",
   "execution_count": 116,
   "metadata": {},
   "outputs": [
    {
     "name": "stdout",
     "output_type": "stream",
     "text": [
      "Enter String 1:dad\n",
      "Enter String 2:add\n"
     ]
    }
   ],
   "source": [
    "str1 = input(\"Enter String 1:\").lower().replace(\" \",\"\") \n",
    "str2 = input(\"Enter String 2:\").lower().replace(\" \",\"\")"
   ]
  },
  {
   "cell_type": "code",
   "execution_count": 117,
   "metadata": {},
   "outputs": [
    {
     "name": "stdout",
     "output_type": "stream",
     "text": [
      "str1 and str2 are Anagrams.\n"
     ]
    }
   ],
   "source": [
    "find_anagram(str1,str2)"
   ]
  }
 ],
 "metadata": {
  "kernelspec": {
   "display_name": "Python 3",
   "language": "python",
   "name": "python3"
  },
  "language_info": {
   "codemirror_mode": {
    "name": "ipython",
    "version": 3
   },
   "file_extension": ".py",
   "mimetype": "text/x-python",
   "name": "python",
   "nbconvert_exporter": "python",
   "pygments_lexer": "ipython3",
   "version": "3.7.6"
  }
 },
 "nbformat": 4,
 "nbformat_minor": 4
}
