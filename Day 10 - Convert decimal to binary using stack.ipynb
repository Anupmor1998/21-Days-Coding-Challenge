{
 "cells": [
  {
   "cell_type": "markdown",
   "metadata": {},
   "source": [
    "# Day 10"
   ]
  },
  {
   "cell_type": "markdown",
   "metadata": {},
   "source": [
    "In this coding exercise, you are required to use the stack data structure(List can also be used) to convert integer values to their binary equivalent."
   ]
  },
  {
   "cell_type": "markdown",
   "metadata": {},
   "source": [
    "## Algorithm:"
   ]
  },
  {
   "cell_type": "markdown",
   "metadata": {},
   "source": [
    "Store the remainder when the number is divided by 2 in an array.\n",
    "Divide the number by 2\n",
    "Repeat the above two steps until the number is greater than zero.\n",
    "Print the array in reverse order now.\n",
    "\n",
    "For Example:\n",
    "\n",
    "If the binary number is 10.\n",
    "\n",
    "Step 1: Remainder when 10 is divided by 2 is zero. Therefore, arr[0] = 0.\n",
    "\n",
    "Step 2: Divide 10 by 2. New number is 10/2 = 5.\n",
    "\n",
    "Step 3: Remainder when 5 is divided by 2 is 1. Therefore, arr[1] = 1.\n",
    "\n",
    "Step 4: Divide 5 by 2. New number is 5/2 = 2.\n",
    "\n",
    "Step 5: Remainder when 2 is divided by 2 is zero. Therefore, arr[2] = 0.\n",
    "\n",
    "Step 6: Divide 2 by 2. New number is 2/2 = 1.\n",
    "\n",
    "Step 7: Remainder when 1 is divided by 2 is 1. Therefore, arr[3] = 1.\n",
    "\n",
    "Step 8: Divide 1 by 2. New number is 1/2 = 0.\n",
    "\n",
    "Step 9: Since number becomes = 0. Print the array in reverse order. Therefore the equivalent binary number is 1010."
   ]
  },
  {
   "cell_type": "markdown",
   "metadata": {},
   "source": [
    "## Solution"
   ]
  },
  {
   "cell_type": "code",
   "execution_count": 1,
   "metadata": {},
   "outputs": [],
   "source": [
    "def convert_dec_bi(num):\n",
    "    stack = []\n",
    "    binary = \"\"\n",
    "    while num != 0:\n",
    "        stack.append(num % 2)\n",
    "        num = num // 2\n",
    "    while (len(stack)) != 0:\n",
    "        binary += str(stack.pop())\n",
    "    return binary"
   ]
  },
  {
   "cell_type": "code",
   "execution_count": 2,
   "metadata": {},
   "outputs": [
    {
     "data": {
      "text/plain": [
       "'1000'"
      ]
     },
     "execution_count": 2,
     "metadata": {},
     "output_type": "execute_result"
    }
   ],
   "source": [
    "convert_dec_bi(8)"
   ]
  },
  {
   "cell_type": "code",
   "execution_count": 3,
   "metadata": {},
   "outputs": [
    {
     "data": {
      "text/plain": [
       "'110010'"
      ]
     },
     "execution_count": 3,
     "metadata": {},
     "output_type": "execute_result"
    }
   ],
   "source": [
    "convert_dec_bi(50)"
   ]
  },
  {
   "cell_type": "code",
   "execution_count": null,
   "metadata": {},
   "outputs": [],
   "source": []
  }
 ],
 "metadata": {
  "kernelspec": {
   "display_name": "Python 3",
   "language": "python",
   "name": "python3"
  },
  "language_info": {
   "codemirror_mode": {
    "name": "ipython",
    "version": 3
   },
   "file_extension": ".py",
   "mimetype": "text/x-python",
   "name": "python",
   "nbconvert_exporter": "python",
   "pygments_lexer": "ipython3",
   "version": "3.7.6"
  }
 },
 "nbformat": 4,
 "nbformat_minor": 4
}
